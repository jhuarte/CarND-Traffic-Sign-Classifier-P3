{
 "cells": [
  {
   "cell_type": "markdown",
   "id": "discrete-confirmation",
   "metadata": {},
   "source": [
    "## 1. Hello world\n",
    "A very simple \"hello world\" using TensorFlow v2 tensors.\n",
    "\n",
    "* Author: [Aymeric Damien](@Snapchat)\n",
    "* Project: [https://github.com/aymericdamien/TensorFlow-Examples/](https://github.com/aymericdamien/TensorFlow-Examples/)"
   ]
  },
  {
   "cell_type": "code",
   "execution_count": 33,
   "id": "colonial-nudist",
   "metadata": {},
   "outputs": [
    {
     "name": "stdout",
     "output_type": "stream",
     "text": [
      "tf.Tensor(b'hello world', shape=(), dtype=string)\n"
     ]
    }
   ],
   "source": [
    "import tensorflow as tf\n",
    "\n",
    "# Create a Tensor \n",
    "msg = tf.constant(\"hello world\")\n",
    "print(msg)"
   ]
  },
  {
   "cell_type": "code",
   "execution_count": 34,
   "id": "italian-vulnerability",
   "metadata": {},
   "outputs": [
    {
     "name": "stdout",
     "output_type": "stream",
     "text": [
      "b'hello world'\n"
     ]
    }
   ],
   "source": [
    "# To access a Tensor value, call numpy().\n",
    "print(msg.numpy())"
   ]
  }
 ],
 "metadata": {
  "kernelspec": {
   "display_name": "Python 3",
   "language": "python",
   "name": "python3"
  },
  "language_info": {
   "codemirror_mode": {
    "name": "ipython",
    "version": 3
   },
   "file_extension": ".py",
   "mimetype": "text/x-python",
   "name": "python",
   "nbconvert_exporter": "python",
   "pygments_lexer": "ipython3",
   "version": "3.8.5"
  }
 },
 "nbformat": 4,
 "nbformat_minor": 5
}
