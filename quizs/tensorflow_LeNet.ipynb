{
 "cells": [
  {
   "cell_type": "markdown",
   "id": "bigger-nomination",
   "metadata": {},
   "source": [
    "## Lab: LeNet in TensorFlow\n",
    "\n",
    "You're now going to put together everything you've learned and implement the LeNet architecture using TensorFlow. When you get to your next project, remember that LeNet can be a great starting point for your network architecture!\n",
    "\n",
    "**1. Instructions:**\n",
    "1. Go to the LeNet with GPU workspace\n",
    "2. Open the jupyter notebook LeNet-Lab.ipynb\n",
    "3. Finish off the architecture implementation in the LeNet function. That's the only piece that's missing.\n",
    "4. Important: Remember to turn off your GPU when not training.\n",
    "\n",
    "**2. Preprocessing:**\n",
    "\n",
    "An MNIST image is initially `784` features `(1D)`. If the data is not normalized from `[0, 255]` to `[0, 1]`, normalize it. We reshape this to `(28, 28, 1)` `(3D)`, and pad the image with 0s such that the height and width are 32 (centers digit further). Thus, the input shape going into the first convolutional layer is `32x32x1`.\n",
    "\n",
    "**3. Specs:**\n",
    "\n",
    "* **_Convolution layer 1:_** The output shape should be `28x28x6`.\n",
    "* **_Activation 1:_** Your choice of activation function.\n",
    "* **_Pooling layer 1:_** The output shape should be `14x14x6`.\n",
    "* **_Convolution layer 2:_** The output shape should be `10x10x16`.\n",
    "* **_Activation 2:_** Your choice of activation function.\n",
    "* **_Pooling layer 2:_** The output shape should be `5x5x16`.\n",
    "* **_Flatten layer:_** Flatten the output shape of the final pooling layer such that it's `1D` instead of `3D`. The easiest way to do is by using `tf.contrib.layers.flatten`, which is already imported for you.\n",
    "* **_Fully connected layer 1:_** This should have `120` outputs.\n",
    "* **_Activation 3:_** Your choice of activation function.\n",
    "* **_Fully connected layer 2:_** This should have `84` outputs.\n",
    "* **_Activation 4:_** Your choice of activation function.\n",
    "* **_Fully connected layer 3:_** This should have `10` outputs.\n",
    "\n",
    "\n",
    "There will be two implementations:\n",
    "* Raw implementation using **_TensorFlow_**\n",
    "* Advanced implementation using **_Keras_**\n",
    "\n"
   ]
  },
  {
   "cell_type": "markdown",
   "id": "psychological-career",
   "metadata": {},
   "source": [
    "## 1. Load the data\n",
    "\n",
    "Load the MNIST data, which comes pre-loaded with TensorFlow and check the sanity of the dataset."
   ]
  },
  {
   "cell_type": "code",
   "execution_count": 2,
   "id": "rising-structure",
   "metadata": {},
   "outputs": [
    {
     "name": "stdout",
     "output_type": "stream",
     "text": [
      "\n",
      "Image Shape: (28, 28)\n",
      "\n",
      "Training Set:   60000 samples\n",
      "Test Set:       10000 samples\n"
     ]
    }
   ],
   "source": [
    "from tensorflow.keras.datasets import mnist\n",
    "import numpy as np\n",
    "\n",
    "(x_train, y_train), (x_test, y_test) = mnist.load_data()\n",
    "\n",
    "x_train, x_test = np.array(x_train, np.float32), np.array(x_test, np.float32)\n",
    "# Normalize images value from [0, 255] to [0, 1].\n",
    "x_train, x_test = x_train / 255., x_test / 255.\n",
    "\n",
    "assert(len(x_train) == len(y_train))\n",
    "assert(len(x_test) == len(y_test))\n",
    "\n",
    "print()\n",
    "print(\"Image Shape: {}\".format(x_train[0].shape))\n",
    "print()\n",
    "print(\"Training Set:   {} samples\".format(len(x_train)))\n",
    "print(\"Test Set:       {} samples\".format(len(x_test)))"
   ]
  },
  {
   "cell_type": "code",
   "execution_count": 3,
   "id": "intermediate-watershed",
   "metadata": {},
   "outputs": [
    {
     "name": "stdout",
     "output_type": "stream",
     "text": [
      "Updated Image Shape: (60000, 32, 32)\n"
     ]
    }
   ],
   "source": [
    "\n",
    "\n",
    "# Pad images with 0s\n",
    "x_train      = np.pad(x_train, ((0,0),(2, 2), (2, 2)))\n",
    "x_test       = np.pad(x_test, ((0,0),(2, 2), (2, 2)))\n",
    "\n",
    "print(\"Updated Image Shape: {}\".format(x_train.shape))"
   ]
  },
  {
   "cell_type": "markdown",
   "id": "reserved-mentor",
   "metadata": {},
   "source": [
    "## 2. Visualize Data\n",
    "View a sample from the dataset."
   ]
  },
  {
   "cell_type": "code",
   "execution_count": 4,
   "id": "abstract-scope",
   "metadata": {},
   "outputs": [
    {
     "name": "stdout",
     "output_type": "stream",
     "text": [
      "5\n"
     ]
    },
    {
     "data": {
      "image/png": "[encoded data removed]",
      "text/plain": [
       "<Figure size 72x72 with 1 Axes>"
      ]
     },
     "metadata": {
      "needs_background": "light"
     },
     "output_type": "display_data"
    }
   ],
   "source": [
    "import random\n",
    "import numpy as np\n",
    "import matplotlib.pyplot as plt\n",
    "%matplotlib inline\n",
    "\n",
    "index = random.randint(0, len(x_train))\n",
    "image = x_train[index]\n",
    "\n",
    "plt.figure(figsize=(1,1))\n",
    "plt.imshow(image, cmap=\"gray\")\n",
    "print(y_train[index])"
   ]
  },
  {
   "cell_type": "code",
   "execution_count": 5,
   "id": "dominant-sitting",
   "metadata": {},
   "outputs": [],
   "source": [
    "import tensorflow as tf\n",
    "\n",
    "# Use tf.data API to shuffle and batch data.\n",
    "\n",
    "learning_rate = 0.001\n",
    "training_steps = 200\n",
    "batch_size = 256\n",
    "display_step = 10\n",
    "\n",
    "conv1_filters = 6\n",
    "conv2_filters = 16\n",
    "\n",
    "fc1_units = 120\n",
    "fc2_units = 84\n",
    "num_classes = 10\n",
    "\n",
    "train_data = tf.data.Dataset.from_tensor_slices((x_train, y_train))\n",
    "train_data = train_data.repeat().shuffle(5000).batch(batch_size).prefetch(1)"
   ]
  },
  {
   "cell_type": "code",
   "execution_count": 6,
   "id": "molecular-edition",
   "metadata": {},
   "outputs": [],
   "source": [
    "# Store layers weight & bias\n",
    "\n",
    "# A random value generator to initialize weights.\n",
    "random_normal = tf.initializers.RandomNormal()\n",
    "\n",
    "weights = {\n",
    "    # Conv Layer 1: 5x5 conv, 1 input, 6 filters (MNIST has 1 color channel only).\n",
    "    'wc1': tf.Variable(random_normal([5, 5, 1, conv1_filters])),\n",
    "    # Conv Layer 2: 5x5 conv, 6 inputs, 16 filters.\n",
    "    'wc2': tf.Variable(random_normal([5, 5, conv1_filters, conv2_filters])),\n",
    "    # FC Layer 1: 5*5*16 inputs, 120 units.\n",
    "    'wd1': tf.Variable(random_normal([5*5*16, fc1_units])),\n",
    "    # FC Layer 2: 120 inputs, 84 units.\n",
    "    'wd2': tf.Variable(random_normal([fc1_units, fc2_units])),    \n",
    "    # FC Out Layer: 84 inputs, 10 units (total number of classes)\n",
    "    'out': tf.Variable(random_normal([fc2_units, num_classes]))\n",
    "}\n",
    "biases = {\n",
    "    'bc1': tf.Variable(tf.zeros([conv1_filters])),\n",
    "    'bc2': tf.Variable(tf.zeros([conv2_filters])),\n",
    "    'bd1': tf.Variable(tf.zeros([fc1_units])),\n",
    "    'bd2': tf.Variable(tf.zeros([fc2_units])),\n",
    "    'out': tf.Variable(tf.zeros([num_classes]))\n",
    "}"
   ]
  },
  {
   "cell_type": "code",
   "execution_count": 7,
   "id": "major-doctrine",
   "metadata": {},
   "outputs": [],
   "source": [
    "# Create some wrappers for simplicity.\n",
    "def conv2d(x, W, b, strides=1, padding = 'VALID'):\n",
    "    # Conv2D wrapper, with bias and relu activation.\n",
    "    x = tf.nn.conv2d(x, W, strides=[1, strides, strides, 1], padding = padding)\n",
    "    x = tf.nn.bias_add(x, b)\n",
    "    return tf.nn.relu(x)\n",
    "\n",
    "def maxpool2d(x, k=2, padding = 'VALID'):\n",
    "    # MaxPool2D wrapper.\n",
    "    return tf.nn.max_pool(x, ksize=[1, k, k, 1], strides=[1, k, k, 1], padding = padding)"
   ]
  },
  {
   "cell_type": "code",
   "execution_count": 8,
   "id": "vanilla-provider",
   "metadata": {},
   "outputs": [],
   "source": [
    "# Create model\n",
    "def conv_net(x):\n",
    "    \n",
    "    # Input shape: [-1, 32, 32, 1]. A batch of 28x28x1 (grayscale) images.\n",
    "    x = tf.reshape(x, [-1, 32, 32, 1])\n",
    "\n",
    "    # Convolution Layer. Output shape: [-1, 28, 28, 6].\n",
    "    conv1 = conv2d(x, weights['wc1'], biases['bc1'])\n",
    "    \n",
    "    # Max Pooling (down-sampling). Output shape: [-1, 14, 14, 6].\n",
    "    conv1 = maxpool2d(conv1, k=2)\n",
    "\n",
    "    # Convolution Layer. Output shape: [-1, 10, 10, 16].\n",
    "    conv2 = conv2d(conv1, weights['wc2'], biases['bc2'])\n",
    "    \n",
    "    # Max Pooling (down-sampling). Output shape: [-1, 5, 5, 16].\n",
    "    conv2 = maxpool2d(conv2, k=2)\n",
    "\n",
    "    # Reshape conv2 output to fit fully connected layer input, Output shape: [-1, 5*5*16].\n",
    "    fc1 = tf.reshape(conv2, [-1, weights['wd1'].get_shape().as_list()[0]])\n",
    "    \n",
    "    # Fully connected layer, Output shape: [-1, 120].\n",
    "    fc1 = tf.add(tf.matmul(fc1, weights['wd1']), biases['bd1'])\n",
    "    # Apply ReLU to fc1 output for non-linearity.\n",
    "    fc1 = tf.nn.relu(fc1)\n",
    "\n",
    "    # Fully connected layer, Output shape: [-1, 84].\n",
    "    fc2 = tf.add(tf.matmul(fc1, weights['wd2']), biases['bd2'])\n",
    "    # Apply ReLU to fc1 output for non-linearity.\n",
    "    fc2 = tf.nn.relu(fc2)\n",
    "    \n",
    "    # Fully connected layer, Output shape: [-1, 10].\n",
    "    out = tf.add(tf.matmul(fc2, weights['out']), biases['out'])\n",
    "    # Apply softmax to normalize the logits to a probability distribution.\n",
    "    return tf.nn.softmax(out)"
   ]
  },
  {
   "cell_type": "code",
   "execution_count": 9,
   "id": "negative-pennsylvania",
   "metadata": {},
   "outputs": [],
   "source": [
    "# Cross-Entropy loss function.\n",
    "def cross_entropy(y_pred, y_true):\n",
    "    # Encode label to a one hot vector.\n",
    "    y_true = tf.one_hot(y_true, depth=num_classes)\n",
    "    # Clip prediction values to avoid log(0) error.\n",
    "    y_pred = tf.clip_by_value(y_pred, 1e-9, 1.)\n",
    "    # Compute cross-entropy.\n",
    "    return tf.reduce_mean(-tf.reduce_sum(y_true * tf.math.log(y_pred)))\n",
    "\n",
    "# Accuracy metric.\n",
    "def accuracy(y_pred, y_true):\n",
    "    # Predicted class is the index of highest score in prediction vector (i.e. argmax).\n",
    "    correct_prediction = tf.equal(tf.argmax(y_pred, 1), tf.cast(y_true, tf.int64))\n",
    "    return tf.reduce_mean(tf.cast(correct_prediction, tf.float32), axis=-1)\n",
    "\n",
    "# ADAM optimizer.\n",
    "optimizer = tf.optimizers.Adam(learning_rate)"
   ]
  },
  {
   "cell_type": "code",
   "execution_count": 10,
   "id": "clinical-broadcasting",
   "metadata": {},
   "outputs": [],
   "source": [
    "# Optimization process. \n",
    "def run_optimization(x, y):\n",
    "    # Wrap computation inside a GradientTape for automatic differentiation.\n",
    "    with tf.GradientTape() as g:\n",
    "        pred = conv_net(x)\n",
    "        loss = cross_entropy(pred, y)\n",
    "        \n",
    "    # Variables to update, i.e. trainable variables.\n",
    "    trainable_variables = list(weights.values()) + list(biases.values())\n",
    "\n",
    "    # Compute gradients.\n",
    "    gradients = g.gradient(loss, trainable_variables)\n",
    "    \n",
    "    # Update W and b following gradients.\n",
    "    optimizer.apply_gradients(zip(gradients, trainable_variables))"
   ]
  },
  {
   "cell_type": "code",
   "execution_count": 11,
   "id": "danish-quarterly",
   "metadata": {},
   "outputs": [
    {
     "name": "stdout",
     "output_type": "stream",
     "text": [
      "step: 10, loss: 576.559631, accuracy: 0.332031\n",
      "step: 20, loss: 511.812134, accuracy: 0.507812\n",
      "step: 30, loss: 328.013062, accuracy: 0.664062\n",
      "step: 40, loss: 220.262421, accuracy: 0.738281\n",
      "step: 50, loss: 168.687119, accuracy: 0.781250\n",
      "step: 60, loss: 149.426071, accuracy: 0.816406\n",
      "step: 70, loss: 109.496140, accuracy: 0.855469\n",
      "step: 80, loss: 121.977097, accuracy: 0.871094\n",
      "step: 90, loss: 94.946640, accuracy: 0.902344\n",
      "step: 100, loss: 98.546021, accuracy: 0.886719\n",
      "step: 110, loss: 99.779236, accuracy: 0.867188\n",
      "step: 120, loss: 90.515488, accuracy: 0.906250\n",
      "step: 130, loss: 59.855827, accuracy: 0.933594\n",
      "step: 140, loss: 60.316040, accuracy: 0.902344\n",
      "step: 150, loss: 93.924736, accuracy: 0.917969\n",
      "step: 160, loss: 66.822144, accuracy: 0.906250\n",
      "step: 170, loss: 66.674759, accuracy: 0.914062\n",
      "step: 180, loss: 84.828545, accuracy: 0.902344\n",
      "step: 190, loss: 52.459991, accuracy: 0.937500\n",
      "step: 200, loss: 67.655380, accuracy: 0.933594\n"
     ]
    }
   ],
   "source": [
    "# Run training for the given number of steps.\n",
    "for step, (batch_x, batch_y) in enumerate(train_data.take(training_steps), 1):\n",
    "    # Run the optimization to update W and b values.    \n",
    "    run_optimization(batch_x, batch_y)\n",
    "    \n",
    "    if step % display_step == 0:\n",
    "        pred = conv_net(batch_x)\n",
    "        loss = cross_entropy(pred, batch_y)\n",
    "        acc = accuracy(pred, batch_y)\n",
    "        print(\"step: %i, loss: %f, accuracy: %f\" % (step, loss, acc))"
   ]
  },
  {
   "cell_type": "code",
   "execution_count": 139,
   "id": "alpha-edgar",
   "metadata": {},
   "outputs": [
    {
     "name": "stdout",
     "output_type": "stream",
     "text": [
      "Test Accuracy: 0.989200\n"
     ]
    }
   ],
   "source": [
    "# Test model on validation set.\n",
    "pred = conv_net(x_test)\n",
    "print(\"Test Accuracy: %f\" % accuracy(pred, y_test))"
   ]
  },
  {
   "cell_type": "code",
   "execution_count": 140,
   "id": "wanted-seven",
   "metadata": {},
   "outputs": [],
   "source": [
    "# Visualize predictions.\n",
    "import matplotlib.pyplot as plt"
   ]
  },
  {
   "cell_type": "code",
   "execution_count": 142,
   "id": "substantial-lender",
   "metadata": {},
   "outputs": [
    {
     "data": {
      "image/png": "[encoded data removed]",
      "text/plain": [
       "<Figure size 432x288 with 1 Axes>"
      ]
     },
     "metadata": {
      "needs_background": "light"
     },
     "output_type": "display_data"
    },
    {
     "name": "stdout",
     "output_type": "stream",
     "text": [
      "Model prediction: 7\n"
     ]
    },
    {
     "data": {
      "image/png": "[encoded data removed]",
      "text/plain": [
       "<Figure size 432x288 with 1 Axes>"
      ]
     },
     "metadata": {
      "needs_background": "light"
     },
     "output_type": "display_data"
    },
    {
     "name": "stdout",
     "output_type": "stream",
     "text": [
      "Model prediction: 2\n"
     ]
    },
    {
     "data": {
      "image/png": "[encoded data removed]",
      "text/plain": [
       "<Figure size 432x288 with 1 Axes>"
      ]
     },
     "metadata": {
      "needs_background": "light"
     },
     "output_type": "display_data"
    },
    {
     "name": "stdout",
     "output_type": "stream",
     "text": [
      "Model prediction: 1\n"
     ]
    },
    {
     "data": {
      "image/png": "[encoded data removed]",
      "text/plain": [
       "<Figure size 432x288 with 1 Axes>"
      ]
     },
     "metadata": {
      "needs_background": "light"
     },
     "output_type": "display_data"
    },
    {
     "name": "stdout",
     "output_type": "stream",
     "text": [
      "Model prediction: 0\n"
     ]
    },
    {
     "data": {
      "image/png": "[encoded data removed]",
      "text/plain": [
       "<Figure size 432x288 with 1 Axes>"
      ]
     },
     "metadata": {
      "needs_background": "light"
     },
     "output_type": "display_data"
    },
    {
     "name": "stdout",
     "output_type": "stream",
     "text": [
      "Model prediction: 4\n"
     ]
    }
   ],
   "source": [
    "# Predict 5 images from validation set.\n",
    "n_images = 5\n",
    "test_images = x_test[:n_images]\n",
    "predictions = conv_net(test_images)\n",
    "\n",
    "# Display image and model prediction.\n",
    "for i in range(n_images):\n",
    "    plt.imshow(np.reshape(test_images[i], [32, 32]), cmap='gray')\n",
    "    plt.show()\n",
    "    print(\"Model prediction: %i\" % np.argmax(predictions.numpy()[i]))"
   ]
  },
  {
   "cell_type": "code",
   "execution_count": null,
   "id": "authentic-letters",
   "metadata": {},
   "outputs": [],
   "source": []
  }
 ],
 "metadata": {
  "kernelspec": {
   "display_name": "Python 3",
   "language": "python",
   "name": "python3"
  },
  "language_info": {
   "codemirror_mode": {
    "name": "ipython",
    "version": 3
   },
   "file_extension": ".py",
   "mimetype": "text/x-python",
   "name": "python",
   "nbconvert_exporter": "python",
   "pygments_lexer": "ipython3",
   "version": "3.8.5"
  }
 },
 "nbformat": 4,
 "nbformat_minor": 5
}
