{
 "cells": [
  {
   "cell_type": "markdown",
   "id": "comparative-ranking",
   "metadata": {},
   "source": [
    "## 3. Linear Regression Operations\n",
    "BaLinear regression implementation with TensorFlow v2 library.\n",
    "\n",
    "This example is using a low-level approach to better understand all mechanics behind the training process.\n",
    "\n",
    "* Author: [Aymeric Damien](@Snapchat)\n",
    "* Project: [https://github.com/aymericdamien/TensorFlow-Examples/](https://github.com/aymericdamien/TensorFlow-Examples/)"
   ]
  },
  {
   "cell_type": "code",
   "execution_count": 52,
   "id": "naughty-journalist",
   "metadata": {},
   "outputs": [],
   "source": [
    "from __future__ import absolute_import, division, print_function\n",
    "\n",
    "import tensorflow as tf\n",
    "import numpy as np\n",
    "rng = np.random\n",
    "\n",
    "# Parameters.\n",
    "learning_rate = 0.01\n",
    "training_steps = 1000\n",
    "display_step = 50\n",
    "\n",
    "# Training Data.\n",
    "X = np.array([3.3,4.4,5.5,6.71,6.93,4.168,9.779,6.182,7.59,2.167,\n",
    "              7.042,10.791,5.313,7.997,5.654,9.27,3.1])\n",
    "Y = np.array([1.7,2.76,2.09,3.19,1.694,1.573,3.366,2.596,2.53,1.221,\n",
    "              2.827,3.465,1.65,2.904,2.42,2.94,1.3])\n"
   ]
  },
  {
   "cell_type": "code",
   "execution_count": 53,
   "id": "great-belly",
   "metadata": {},
   "outputs": [],
   "source": [
    "# Weight and Bias, initialized randomly.\n",
    "W = tf.Variable(rng.random(), name=\"weight\")\n",
    "b = tf.Variable(rng.random(), name=\"bias\")\n",
    "\n",
    "# Linear regression (Wx+b)\n",
    "def linear_regression(x):\n",
    "    return W * x + b\n",
    "\n",
    "# Mean square error.\n",
    "def mean_square(y_pred, y_true):\n",
    "    return tf.reduce_mean(tf.square(y_pred - y_true))\n",
    "\n",
    "# Stochastic Gradient Descent Optimizer.\n",
    "optimizer = tf.optimizers.SGD(learning_rate)"
   ]
  },
  {
   "cell_type": "code",
   "execution_count": 54,
   "id": "returning-fancy",
   "metadata": {},
   "outputs": [],
   "source": [
    "# Optimization process. \n",
    "def run_optimization():\n",
    "    # Wrap computation inside a GradientTape for automatic differentiation.\n",
    "    with tf.GradientTape() as g:\n",
    "        pred = linear_regression(X)\n",
    "        loss = mean_square(pred, Y)\n",
    "\n",
    "    # Compute gradients.\n",
    "    gradients = g.gradient(loss, [W, b])\n",
    "    \n",
    "    # Update W and b following gradients.\n",
    "    optimizer.apply_gradients(zip(gradients, [W, b]))"
   ]
  },
  {
   "cell_type": "code",
   "execution_count": 55,
   "id": "pharmaceutical-syntax",
   "metadata": {},
   "outputs": [
    {
     "name": "stdout",
     "output_type": "stream",
     "text": [
      "step: 50, loss: 0.205598, W: 0.342824, b: 0.152315\n",
      "step: 100, loss: 0.194434, W: 0.332388, b: 0.226296\n",
      "step: 150, loss: 0.185679, W: 0.323147, b: 0.291811\n",
      "step: 200, loss: 0.178812, W: 0.314964, b: 0.349829\n",
      "step: 250, loss: 0.173428, W: 0.307717, b: 0.401208\n",
      "step: 300, loss: 0.169205, W: 0.301299, b: 0.446707\n",
      "step: 350, loss: 0.165893, W: 0.295615, b: 0.486999\n",
      "step: 400, loss: 0.163296, W: 0.290583, b: 0.522680\n",
      "step: 450, loss: 0.161260, W: 0.286126, b: 0.554279\n",
      "step: 500, loss: 0.159663, W: 0.282179, b: 0.582261\n",
      "step: 550, loss: 0.158410, W: 0.278683, b: 0.607041\n",
      "step: 600, loss: 0.157428, W: 0.275588, b: 0.628985\n",
      "step: 650, loss: 0.156657, W: 0.272847, b: 0.648418\n",
      "step: 700, loss: 0.156053, W: 0.270419, b: 0.665627\n",
      "step: 750, loss: 0.155580, W: 0.268270, b: 0.680868\n",
      "step: 800, loss: 0.155208, W: 0.266366, b: 0.694363\n",
      "step: 850, loss: 0.154917, W: 0.264680, b: 0.706315\n",
      "step: 900, loss: 0.154688, W: 0.263188, b: 0.716899\n",
      "step: 950, loss: 0.154509, W: 0.261865, b: 0.726271\n",
      "step: 1000, loss: 0.154368, W: 0.260695, b: 0.734571\n"
     ]
    }
   ],
   "source": [
    "# Run training for the given number of steps.\n",
    "for step in range(1, training_steps + 1):\n",
    "    # Run the optimization to update W and b values.\n",
    "    run_optimization()\n",
    "    \n",
    "    if step % display_step == 0:\n",
    "        pred = linear_regression(X)\n",
    "        loss = mean_square(pred, Y)\n",
    "        print(\"step: %i, loss: %f, W: %f, b: %f\" % (step, loss, W.numpy(), b.numpy()))"
   ]
  },
  {
   "cell_type": "code",
   "execution_count": 56,
   "id": "brave-trade",
   "metadata": {},
   "outputs": [
    {
     "data": {
      "image/png": "[encoded data removed]",
      "text/plain": [
       "<Figure size 432x288 with 1 Axes>"
      ]
     },
     "metadata": {
      "needs_background": "light"
     },
     "output_type": "display_data"
    }
   ],
   "source": [
    "import matplotlib.pyplot as plt\n",
    "\n",
    "# Graphic display\n",
    "plt.plot(X, Y, 'ro', label='Original data')\n",
    "plt.plot(X, np.array(W * X + b), label='Fitted line')\n",
    "plt.legend()\n",
    "plt.show()"
   ]
  },
  {
   "cell_type": "code",
   "execution_count": null,
   "id": "constitutional-surgeon",
   "metadata": {},
   "outputs": [],
   "source": []
  }
 ],
 "metadata": {
  "kernelspec": {
   "display_name": "Python 3",
   "language": "python",
   "name": "python3"
  },
  "language_info": {
   "codemirror_mode": {
    "name": "ipython",
    "version": 3
   },
   "file_extension": ".py",
   "mimetype": "text/x-python",
   "name": "python",
   "nbconvert_exporter": "python",
   "pygments_lexer": "ipython3",
   "version": "3.8.5"
  }
 },
 "nbformat": 4,
 "nbformat_minor": 5
}
