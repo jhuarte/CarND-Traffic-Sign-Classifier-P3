{
 "cells": [
  {
   "cell_type": "code",
   "execution_count": 1,
   "id": "herbal-campaign",
   "metadata": {},
   "outputs": [],
   "source": [
    "# https://medium.com/analytics-vidhya/using-tensorflow-2-0-to-build-a-cnn-for-image-classification-4e50848ce1c0\n",
    "# https://www.tensorflow.org/tutorials/images/cnn\n",
    "# https://www.tensorflow.org/api_docs/python/tf/keras/Model\n",
    "# https://keras.io/api/models/model/#summary-method\n",
    "# https://stackoverflow.com/questions/53514495/what-does-batch-repeat-and-shuffle-do-with-tensorflow-dataset\n",
    "# https://enmilocalfunciona.io/tratamiento-de-imagenes-usando-imagedatagenerator-en-keras/\n",
    "\n",
    "# Load pickled data\n",
    "import pickle\n",
    "from __future__ import absolute_import, division, print_function\n",
    "\n",
    "import tensorflow as tf\n",
    "from tensorflow.keras import models, layers\n",
    "import numpy as np\n",
    "import pandas as pd\n",
    "import matplotlib.pyplot as plt"
   ]
  },
  {
   "cell_type": "code",
   "execution_count": 2,
   "id": "mediterranean-buying",
   "metadata": {},
   "outputs": [],
   "source": [
    "# TODO: Fill this in based on where you saved the training and testing data\n",
    "\n",
    "training_file = \"data/train.p\"\n",
    "validation_file= \"data/valid.p\"\n",
    "testing_file = \"data/test.p\"\n",
    "\n",
    "with open(training_file, mode='rb') as f:\n",
    "    train = pickle.load(f)\n",
    "with open(validation_file, mode='rb') as f:\n",
    "    valid = pickle.load(f)\n",
    "with open(testing_file, mode='rb') as f:\n",
    "    test = pickle.load(f)\n",
    "    \n",
    "x_train, y_train = train['features'], train['labels']\n",
    "x_valid, y_valid = valid['features'], valid['labels']\n",
    "x_test, y_test = test['features'], test['labels']\n",
    "\n",
    "assert(len(x_train) == len(y_train))\n",
    "assert(len(x_valid) == len(y_valid))\n",
    "assert(len(x_test) == len(y_test))\n",
    "\n",
    "x_train, x_test, x_valid = np.array(x_train, np.float32), np.array(x_test, np.float32), np.array(x_valid, np.float32)\n",
    "\n",
    "# Number of training examples\n",
    "n_train = len(x_train)\n",
    "\n",
    "# Number of validation examples\n",
    "n_validation = len(x_valid)\n",
    "\n",
    "# Number of testing examples.\n",
    "n_test = len(x_test)\n",
    "\n",
    "# Shape of image\n",
    "image_shape = x_train[0].shape\n",
    "\n",
    "# Unique classes/labels there are in the dataset.\n",
    "n_classes = len(np.unique(y_train))\n",
    "\n",
    "signals = pd.read_csv('signnames.csv')\n"
   ]
  },
  {
   "cell_type": "code",
   "execution_count": 3,
   "id": "smaller-necessity",
   "metadata": {},
   "outputs": [],
   "source": [
    "### Preprocess the data.\n",
    "\n",
    "def normalize(data):\n",
    "    \"\"\"\n",
    "    Normalize the dataset (data) using the mean and the standard deviation\n",
    "    \n",
    "    Parameters:\n",
    "        data: dataset\n",
    "        \n",
    "    Returns:\n",
    "        \n",
    "    \"\"\"\n",
    "    mean = np.mean(data)\n",
    "    std = np.std(data)\n",
    "    \n",
    "    return (data - mean) / std\n",
    "\n",
    "# Converting to grayscale\n",
    "x_train = np.sum(x_train / 3, axis = 3, keepdims = True)\n",
    "x_test = np.sum(x_test / 3, axis = 3, keepdims = True)\n",
    "x_valid = np.sum(x_valid / 3, axis = 3, keepdims = True)\n",
    "\n",
    "# Applying basic normalization (zero mean, standard deviation)\n",
    "x_train = normalize(x_train)\n",
    "x_test = normalize(x_test)\n",
    "x_valid = normalize(x_valid)"
   ]
  },
  {
   "cell_type": "code",
   "execution_count": 4,
   "id": "specified-phase",
   "metadata": {},
   "outputs": [],
   "source": [
    "# Training parameters.\n",
    "\n",
    "learning_rate = 0.001\n",
    "training_steps = 200\n",
    "batch_size = 128\n",
    "display_step = 10\n",
    "num_classes = n_classes\n",
    "\n",
    "# Network parameters.\n",
    "conv1_filters = 6 # number of filters for 1st conv layer.\n",
    "conv2_filters = 16 # number of filters for 2nd conv layer.\n",
    "fc1_units = 120 # number of neurons for 1st fully-connected layer.\n",
    "fc2_units = 84 # number of neurons for 1st fully-connected layer.\n"
   ]
  },
  {
   "cell_type": "code",
   "execution_count": null,
   "id": "dependent-warrior",
   "metadata": {},
   "outputs": [],
   "source": [
    "train_data = tf.data.Dataset.from_tensor_slices((x_train, y_train))\n",
    "train_data = train_data.repeat().shuffle(len(x_train)).batch(batch_size).prefetch(1)"
   ]
  },
  {
   "cell_type": "code",
   "execution_count": 5,
   "id": "eight-press",
   "metadata": {},
   "outputs": [
    {
     "name": "stdout",
     "output_type": "stream",
     "text": [
      "Model: \"sequential\"\n",
      "_________________________________________________________________\n",
      "Layer (type)                 Output Shape              Param #   \n",
      "=================================================================\n",
      "conv2d (Conv2D)              (None, 28, 28, 6)         156       \n",
      "_________________________________________________________________\n",
      "max_pooling2d (MaxPooling2D) (None, 14, 14, 6)         0         \n",
      "_________________________________________________________________\n",
      "conv2d_1 (Conv2D)            (None, 10, 10, 16)        2416      \n",
      "_________________________________________________________________\n",
      "max_pooling2d_1 (MaxPooling2 (None, 5, 5, 16)          0         \n",
      "_________________________________________________________________\n",
      "flatten (Flatten)            (None, 400)               0         \n",
      "_________________________________________________________________\n",
      "dense (Dense)                (None, 120)               48120     \n",
      "_________________________________________________________________\n",
      "dense_1 (Dense)              (None, 84)                10164     \n",
      "_________________________________________________________________\n",
      "dense_2 (Dense)              (None, 43)                3655      \n",
      "=================================================================\n",
      "Total params: 64,511\n",
      "Trainable params: 64,511\n",
      "Non-trainable params: 0\n",
      "_________________________________________________________________\n",
      "Epoch 1/10\n",
      "174/174 [==============================] - 15s 82ms/step - loss: 2.7812 - accuracy: 0.2943 - val_loss: 0.9874 - val_accuracy: 0.7335\n",
      "Epoch 2/10\n",
      "174/174 [==============================] - 13s 75ms/step - loss: 0.5607 - accuracy: 0.8511 - val_loss: 0.6851 - val_accuracy: 0.8348\n",
      "Epoch 3/10\n",
      "174/174 [==============================] - 13s 75ms/step - loss: 0.2860 - accuracy: 0.9293 - val_loss: 0.5845 - val_accuracy: 0.8659\n",
      "Epoch 4/10\n",
      "174/174 [==============================] - 13s 75ms/step - loss: 0.1897 - accuracy: 0.9537 - val_loss: 0.5677 - val_accuracy: 0.8801\n",
      "Epoch 5/10\n",
      "174/174 [==============================] - 13s 75ms/step - loss: 0.1313 - accuracy: 0.9679 - val_loss: 0.5422 - val_accuracy: 0.8870\n",
      "Epoch 6/10\n",
      "174/174 [==============================] - 13s 74ms/step - loss: 0.1005 - accuracy: 0.9756 - val_loss: 0.5371 - val_accuracy: 0.8979\n",
      "Epoch 7/10\n",
      "174/174 [==============================] - 13s 74ms/step - loss: 0.0691 - accuracy: 0.9839 - val_loss: 0.5281 - val_accuracy: 0.9035\n",
      "Epoch 8/10\n",
      "174/174 [==============================] - 13s 75ms/step - loss: 0.0590 - accuracy: 0.9857 - val_loss: 0.5604 - val_accuracy: 0.9003\n",
      "Epoch 9/10\n",
      "174/174 [==============================] - 13s 74ms/step - loss: 0.0519 - accuracy: 0.9864 - val_loss: 0.5685 - val_accuracy: 0.9007\n",
      "Epoch 10/10\n",
      "174/174 [==============================] - 13s 75ms/step - loss: 0.0440 - accuracy: 0.9883 - val_loss: 0.5567 - val_accuracy: 0.9087\n"
     ]
    }
   ],
   "source": [
    "\n",
    "model = models.Sequential()\n",
    "model.add(layers.Conv2D(conv1_filters, (5, 5), activation='relu', input_shape=(32, 32, 1)))\n",
    "model.add(layers.MaxPooling2D((2, 2)))\n",
    "model.add(layers.Conv2D(conv2_filters, (5, 5), activation='relu'))\n",
    "model.add(layers.MaxPooling2D((2, 2)))\n",
    "\n",
    "model.add(layers.Flatten())\n",
    "model.add(layers.Dense(fc1_units, activation='relu'))\n",
    "model.add(layers.Dense(fc2_units, activation='relu'))\n",
    "model.add(layers.Dense(num_classes))\n",
    "\n",
    "model.summary()\n",
    "\n",
    "model.compile(optimizer='adam',\n",
    "              loss=tf.keras.losses.SparseCategoricalCrossentropy(from_logits=True),\n",
    "              metrics=['accuracy'])\n",
    "\n",
    "history = model.fit(x_train, y_train, epochs = 10, batch_size = 200, \n",
    "                    validation_data=(x_test, y_test))"
   ]
  },
  {
   "cell_type": "code",
   "execution_count": 9,
   "id": "disciplinary-sodium",
   "metadata": {},
   "outputs": [
    {
     "name": "stdout",
     "output_type": "stream",
     "text": [
      "395/395 - 2s - loss: 0.7784 - accuracy: 0.9039\n"
     ]
    },
    {
     "data": {
      "image/png": "[encoded data removed]",
      "text/plain": [
       "<Figure size 432x288 with 1 Axes>"
      ]
     },
     "metadata": {
      "needs_background": "light"
     },
     "output_type": "display_data"
    }
   ],
   "source": [
    "%matplotlib inline\n",
    "\n",
    "plt.plot(history.history['accuracy'], label='accuracy')\n",
    "plt.plot(history.history['val_accuracy'], label = 'val_accuracy')\n",
    "plt.xlabel('Epoch')\n",
    "plt.ylabel('Accuracy')\n",
    "plt.ylim([0.5, 1])\n",
    "plt.legend(loc='lower right')\n",
    "\n",
    "test_loss, test_acc = model.evaluate(x_test,  y_test, verbose=2)"
   ]
  },
  {
   "cell_type": "code",
   "execution_count": 10,
   "id": "under-template",
   "metadata": {},
   "outputs": [
    {
     "name": "stdout",
     "output_type": "stream",
     "text": [
      "0.9038796424865723\n"
     ]
    }
   ],
   "source": [
    "print(test_acc)"
   ]
  },
  {
   "cell_type": "code",
   "execution_count": null,
   "id": "ceramic-benjamin",
   "metadata": {},
   "outputs": [],
   "source": []
  }
 ],
 "metadata": {
  "kernelspec": {
   "display_name": "Python 3",
   "language": "python",
   "name": "python3"
  },
  "language_info": {
   "codemirror_mode": {
    "name": "ipython",
    "version": 3
   },
   "file_extension": ".py",
   "mimetype": "text/x-python",
   "name": "python",
   "nbconvert_exporter": "python",
   "pygments_lexer": "ipython3",
   "version": "3.8.5"
  }
 },
 "nbformat": 4,
 "nbformat_minor": 5
}
